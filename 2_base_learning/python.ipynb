{
 "cells": [
  {
   "cell_type": "markdown",
   "metadata": {},
   "source": [
    "### Path：文件操作"
   ]
  },
  {
   "cell_type": "markdown",
   "metadata": {},
   "source": [
    "#### 1. 文件操作"
   ]
  },
  {
   "cell_type": "code",
   "execution_count": null,
   "metadata": {},
   "outputs": [
    {
     "name": "stdout",
     "output_type": "stream",
     "text": [
      "python.ipynb\n"
     ]
    }
   ],
   "source": [
    "from pathlib import Path\n",
    "\n",
    "path_str = Path(r\"/home/pan/Documents/2025/2025/2_base_learning/python.ipynb\")\n",
    "file_name = path_str.name\n",
    "print(file_name)"
   ]
  },
  {
   "cell_type": "code",
   "execution_count": 2,
   "metadata": {},
   "outputs": [
    {
     "name": "stdout",
     "output_type": "stream",
     "text": [
      "/home/pan/Documents/2025/2025/2_base_learning\n"
     ]
    }
   ],
   "source": [
    "# 提取父文件路径\n",
    "parent_path = path_str.parent\n",
    "print(parent_path)"
   ]
  },
  {
   "cell_type": "code",
   "execution_count": 4,
   "metadata": {},
   "outputs": [
    {
     "name": "stdout",
     "output_type": "stream",
     "text": [
      ".ipynb\n"
     ]
    }
   ],
   "source": [
    "# 提取后缀\n",
    "suffix = path_str.suffix\n",
    "print(suffix)"
   ]
  },
  {
   "cell_type": "code",
   "execution_count": 5,
   "metadata": {},
   "outputs": [
    {
     "name": "stdout",
     "output_type": "stream",
     "text": [
      "python\n"
     ]
    }
   ],
   "source": [
    "# 提取无后缀名的文件名\n",
    "file_name_wo_ext = path_str.stem\n",
    "print(file_name_wo_ext)"
   ]
  },
  {
   "cell_type": "markdown",
   "metadata": {},
   "source": [
    "#### 2. 文件夹的操作"
   ]
  },
  {
   "cell_type": "code",
   "execution_count": 6,
   "metadata": {},
   "outputs": [
    {
     "name": "stdout",
     "output_type": "stream",
     "text": [
      "/home/pan/Documents/2025/2025/1_test_resources/素材打标/test_images_color/purple.webp\n",
      "/home/pan/Documents/2025/2025/1_test_resources/素材打标/test_images_color/golden.webp\n",
      "/home/pan/Documents/2025/2025/1_test_resources/素材打标/test_images_color/colorful.webp\n",
      "/home/pan/Documents/2025/2025/1_test_resources/素材打标/test_images_color/green.webp\n",
      "/home/pan/Documents/2025/2025/1_test_resources/素材打标/test_images_color/jianbian.webp\n",
      "/home/pan/Documents/2025/2025/1_test_resources/素材打标/test_images_color/black.webp\n",
      "/home/pan/Documents/2025/2025/1_test_resources/素材打标/test_images_color/blue.webp\n",
      "/home/pan/Documents/2025/2025/1_test_resources/素材打标/test_images_color/pink.webp\n",
      "/home/pan/Documents/2025/2025/1_test_resources/素材打标/test_images_color/red.webp\n",
      "/home/pan/Documents/2025/2025/1_test_resources/素材打标/test_images_color/white.webp\n",
      "/home/pan/Documents/2025/2025/1_test_resources/素材打标/test_images_color/yellow.webp\n"
     ]
    }
   ],
   "source": [
    "# 遍历文件\n",
    "dir_path = Path(\"/home/pan/Documents/2025/2025/1_test_resources/素材打标/test_images_color\")\n",
    "for path in dir_path.iterdir():\n",
    "    print(path)"
   ]
  },
  {
   "cell_type": "markdown",
   "metadata": {},
   "source": [
    "glob：选择特定的文件"
   ]
  },
  {
   "cell_type": "code",
   "execution_count": null,
   "metadata": {},
   "outputs": [
    {
     "name": "stdout",
     "output_type": "stream",
     "text": [
      "/home/pan/Documents/2025/2025/1_test_resources/素材打标/test_images_color/yellow.webp\n"
     ]
    }
   ],
   "source": [
    "# 选择特定文件\n",
    "select_path = dir_path.glob(\"*ll*.webp\")\n",
    "# print(select_path)\n",
    "# print(dir_path)\n",
    "for path in select_path:\n",
    "    print(path.resolve())"
   ]
  },
  {
   "cell_type": "markdown",
   "metadata": {},
   "source": []
  }
 ],
 "metadata": {
  "kernelspec": {
   "display_name": "test",
   "language": "python",
   "name": "python3"
  },
  "language_info": {
   "codemirror_mode": {
    "name": "ipython",
    "version": 3
   },
   "file_extension": ".py",
   "mimetype": "text/x-python",
   "name": "python",
   "nbconvert_exporter": "python",
   "pygments_lexer": "ipython3",
   "version": "3.10.16"
  }
 },
 "nbformat": 4,
 "nbformat_minor": 2
}
